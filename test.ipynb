{
  "nbformat": 4,
  "nbformat_minor": 0,
  "metadata": {
    "colab": {
      "provenance": [],
      "authorship_tag": "ABX9TyMXBmn598aHtLXJS8aCs0Ah",
      "include_colab_link": true
    },
    "kernelspec": {
      "name": "ir",
      "display_name": "R"
    },
    "language_info": {
      "name": "R"
    }
  },
  "cells": [
    {
      "cell_type": "markdown",
      "metadata": {
        "id": "view-in-github",
        "colab_type": "text"
      },
      "source": [
        "<a href=\"https://colab.research.google.com/github/GuillaumeALLARD/test-shiny/blob/blue/test.ipynb\" target=\"_parent\"><img src=\"https://colab.research.google.com/assets/colab-badge.svg\" alt=\"Open In Colab\"/></a>"
      ]
    },
    {
      "cell_type": "code",
      "execution_count": null,
      "metadata": {
        "id": "qPrJigzDpqp3"
      },
      "outputs": [],
      "source": [
        "min=1,\n",
        "max=20"
      ]
    },
    {
      "cell_type": "code",
      "source": [
        "min=2,\n",
        "max=20"
      ],
      "metadata": {
        "id": "aDyb3UWdqAEg"
      },
      "execution_count": null,
      "outputs": []
    }
  ]
}